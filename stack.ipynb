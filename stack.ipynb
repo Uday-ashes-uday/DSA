{
 "cells": [
  {
   "cell_type": "markdown",
   "id": "e0853e46-3a21-461f-a554-6809b50010a8",
   "metadata": {},
   "source": [
    "# creation of stack using list\n",
    "\n"
   ]
  },
  {
   "cell_type": "code",
   "execution_count": 43,
   "id": "52236d34-c9c8-47a0-900d-bf012a23e9da",
   "metadata": {},
   "outputs": [],
   "source": [
    "class Stack:\n",
    "    def __init__(self):\n",
    "        self.list=[]\n",
    "\n",
    "    def __str__(self):\n",
    "        values=[str(i) for i in reversed(self.list)]\n",
    "        return '\\n'.join(values)\n",
    "\n",
    "    def isEmpty(self):\n",
    "        if self.list==[]:\n",
    "            return True\n",
    "        else:\n",
    "            return False\n",
    "    def push(self,value):\n",
    "        return self.list.append(value)\n",
    "\n",
    "    def pop(self):\n",
    "        if self.isEmpty():\n",
    "            return \"The stack is empty\"\n",
    "        else:\n",
    "            return self.list.pop()\n",
    "\n",
    "    def peek(self):\n",
    "        if self.isEmpty():\n",
    "            return \"The stack is empty.\"\n",
    "        else:\n",
    "            return self.list[-1]\n",
    "\n",
    "    def delete(self):\n",
    "        self.list=None\n",
    "        return \"Stack is deleted\""
   ]
  },
  {
   "cell_type": "code",
   "execution_count": 44,
   "id": "e1ca974a-d621-4625-9bab-63da47a20769",
   "metadata": {},
   "outputs": [],
   "source": [
    "bir=Stack()"
   ]
  },
  {
   "cell_type": "code",
   "execution_count": 45,
   "id": "b569bb29-bcfd-41ca-b857-dc7a32d99c3a",
   "metadata": {},
   "outputs": [],
   "source": [
    "bir.push(3)"
   ]
  },
  {
   "cell_type": "code",
   "execution_count": 46,
   "id": "da2d0660-3398-4c82-ad05-e2ee1fcbbd60",
   "metadata": {},
   "outputs": [],
   "source": [
    "bir.push(8)"
   ]
  },
  {
   "cell_type": "code",
   "execution_count": 47,
   "id": "2a6cc3c6-754b-46e5-84f7-2265308ef3f3",
   "metadata": {},
   "outputs": [],
   "source": [
    "bir.push(9)"
   ]
  },
  {
   "cell_type": "code",
   "execution_count": 48,
   "id": "7eb365fc-e71d-402c-8530-d1ae85f8b626",
   "metadata": {},
   "outputs": [
    {
     "name": "stdout",
     "output_type": "stream",
     "text": [
      "9\n",
      "8\n",
      "3\n"
     ]
    }
   ],
   "source": [
    "print(bir)"
   ]
  },
  {
   "cell_type": "code",
   "execution_count": 49,
   "id": "5d9f3a6a-7cc7-47e4-84f4-9085ab05dd37",
   "metadata": {},
   "outputs": [],
   "source": [
    "bir.push(9)"
   ]
  },
  {
   "cell_type": "code",
   "execution_count": 50,
   "id": "083704ad-89c3-438b-9137-04066fd3f779",
   "metadata": {},
   "outputs": [
    {
     "name": "stdout",
     "output_type": "stream",
     "text": [
      "9\n",
      "9\n",
      "8\n",
      "3\n"
     ]
    }
   ],
   "source": [
    "print(bir)"
   ]
  },
  {
   "cell_type": "code",
   "execution_count": 53,
   "id": "a9dd983e-7fd6-4f97-8c00-84f35b4cb882",
   "metadata": {},
   "outputs": [
    {
     "data": {
      "text/plain": [
       "'Stack is deleted'"
      ]
     },
     "execution_count": 53,
     "metadata": {},
     "output_type": "execute_result"
    }
   ],
   "source": [
    "bir.delete()"
   ]
  },
  {
   "cell_type": "markdown",
   "id": "9782c90c-aae6-442e-9d83-67bd79ccef7b",
   "metadata": {},
   "source": [
    "# Stack with linked list"
   ]
  },
  {
   "cell_type": "code",
   "execution_count": 222,
   "id": "57ae27ee-9a2a-4188-aaff-a9933191f8b6",
   "metadata": {},
   "outputs": [],
   "source": [
    "class Node:\n",
    "    def __init__(self,value):\n",
    "        self.value=value\n",
    "        self.next=None\n",
    "\n",
    "\n",
    "class LinkedList:\n",
    "    def __init__(self):\n",
    "        self.head=None\n",
    "        self.next=None\n",
    "\n",
    "    def __str__(self):\n",
    "        vals=[]\n",
    "        currnode=self.head\n",
    "        while currnode:\n",
    "             vals.append(currnode.value)\n",
    "             curr_node=currnode.next\n",
    "        return vals\n",
    "        \n",
    "class Stack_ll:\n",
    "    def __init__(self):\n",
    "        self.st=LinkedList()\n",
    "\n",
    "    def __str__(self):\n",
    "        currnode=self.st.head\n",
    "        while currnode:\n",
    "            print(currnode.value)\n",
    "            currnode=currnode.next\n",
    "           \n",
    "    def isEmpty(self):\n",
    "        return self.st.head is None\n",
    "\n",
    "    def push(self,value):\n",
    "        node=Node(value)\n",
    "        node.next=self.st.head\n",
    "        self.st.head=node\n",
    "        \n",
    "    def pop(self):\n",
    "        if self.isEmpty():\n",
    "            return \"The stack is empty\"\n",
    "        else:\n",
    "            nodeval=self.st.head.value\n",
    "            self.st.head=self.st.head.next\n",
    "            return nodeval\n",
    "\n",
    "    def peek(self):\n",
    "       if self.isEmpty():\n",
    "           return \"The stack is empty\"\n",
    "       else:\n",
    "           return self.st.head.value\n",
    "\n",
    "    def delete(self):\n",
    "        self.st.head=None\n",
    "\n"
   ]
  },
  {
   "cell_type": "code",
   "execution_count": 223,
   "id": "651548bd-8cb9-470c-840b-d4303235ba17",
   "metadata": {},
   "outputs": [],
   "source": [
    "tir=Stack_ll()"
   ]
  },
  {
   "cell_type": "code",
   "execution_count": 206,
   "id": "dab167c8-a852-4bae-a572-c721272e1701",
   "metadata": {},
   "outputs": [],
   "source": [
    "tir.st.head"
   ]
  },
  {
   "cell_type": "code",
   "execution_count": 207,
   "id": "54b00118-301c-4227-8306-1d4553c78fd9",
   "metadata": {},
   "outputs": [
    {
     "data": {
      "text/plain": [
       "True"
      ]
     },
     "execution_count": 207,
     "metadata": {},
     "output_type": "execute_result"
    }
   ],
   "source": [
    "tir.isEmpty()"
   ]
  },
  {
   "cell_type": "code",
   "execution_count": 208,
   "id": "48f4f68b-b26d-4f74-83a8-d3f277a220de",
   "metadata": {},
   "outputs": [],
   "source": [
    "tir.push(9)"
   ]
  },
  {
   "cell_type": "code",
   "execution_count": 209,
   "id": "aa018eca-44be-4943-bcf5-d419589b5760",
   "metadata": {},
   "outputs": [],
   "source": [
    "tir.push(11)"
   ]
  },
  {
   "cell_type": "code",
   "execution_count": 210,
   "id": "951ddf3f-adea-4329-bace-2a93bec95594",
   "metadata": {},
   "outputs": [],
   "source": [
    "tir.push(12)"
   ]
  },
  {
   "cell_type": "code",
   "execution_count": 220,
   "id": "feb9a8ec-f17e-4921-bcc6-0f7b638c1e1f",
   "metadata": {},
   "outputs": [
    {
     "ename": "TypeError",
     "evalue": "__str__ returned non-string (type NoneType)",
     "output_type": "error",
     "traceback": [
      "\u001b[1;31m---------------------------------------------------------------------------\u001b[0m",
      "\u001b[1;31mTypeError\u001b[0m                                 Traceback (most recent call last)",
      "Cell \u001b[1;32mIn[220], line 1\u001b[0m\n\u001b[1;32m----> 1\u001b[0m \u001b[38;5;28mprint\u001b[39m(tir)\n",
      "\u001b[1;31mTypeError\u001b[0m: __str__ returned non-string (type NoneType)"
     ]
    }
   ],
   "source": [
    "print(tir)"
   ]
  },
  {
   "cell_type": "code",
   "execution_count": 221,
   "id": "585c4e1e-b1d6-486a-807a-e49ec77a1097",
   "metadata": {},
   "outputs": [
    {
     "data": {
      "text/plain": [
       "'The stack is empty'"
      ]
     },
     "execution_count": 221,
     "metadata": {},
     "output_type": "execute_result"
    }
   ],
   "source": [
    "tir.peek()"
   ]
  },
  {
   "cell_type": "code",
   "execution_count": 219,
   "id": "c4d77629-0d14-4fbb-b065-21a2ebf1a449",
   "metadata": {},
   "outputs": [
    {
     "data": {
      "text/plain": [
       "9"
      ]
     },
     "execution_count": 219,
     "metadata": {},
     "output_type": "execute_result"
    }
   ],
   "source": [
    "tir.pop()"
   ]
  },
  {
   "cell_type": "code",
   "execution_count": null,
   "id": "9a04c4c2-8ffd-47e2-b163-7084b1a32e01",
   "metadata": {},
   "outputs": [],
   "source": []
  },
  {
   "cell_type": "code",
   "execution_count": null,
   "id": "8f362fc2-4f71-43f2-90b9-692a1c749090",
   "metadata": {},
   "outputs": [],
   "source": []
  },
  {
   "cell_type": "code",
   "execution_count": 4,
   "id": "83665991-c5f4-4dc4-b122-a4da30be9740",
   "metadata": {},
   "outputs": [],
   "source": [
    "vi.reverse()"
   ]
  },
  {
   "cell_type": "code",
   "execution_count": 5,
   "id": "7e75017e-7b90-4ec5-837f-932e6ab8ca02",
   "metadata": {},
   "outputs": [
    {
     "data": {
      "text/plain": [
       "[4, 3, 2]"
      ]
     },
     "execution_count": 5,
     "metadata": {},
     "output_type": "execute_result"
    }
   ],
   "source": [
    "vi"
   ]
  },
  {
   "cell_type": "code",
   "execution_count": 10,
   "id": "c9c63725-0adc-4460-aa26-e84686aea2e3",
   "metadata": {},
   "outputs": [
    {
     "data": {
      "text/plain": [
       "[5, 4, 3]"
      ]
     },
     "execution_count": 10,
     "metadata": {},
     "output_type": "execute_result"
    }
   ],
   "source": [
    "[j for j in reversed(vi)]"
   ]
  },
  {
   "cell_type": "code",
   "execution_count": 11,
   "id": "4a7f8c8b-f8fb-4f76-b843-1306a7bbf2f8",
   "metadata": {},
   "outputs": [
    {
     "data": {
      "text/plain": [
       "[3, 4, 5]"
      ]
     },
     "execution_count": 11,
     "metadata": {},
     "output_type": "execute_result"
    }
   ],
   "source": [
    "vi"
   ]
  },
  {
   "cell_type": "code",
   "execution_count": null,
   "id": "7f75cc7b-f34b-4c73-a7b5-4c4a47c6f79a",
   "metadata": {},
   "outputs": [],
   "source": []
  }
 ],
 "metadata": {
  "kernelspec": {
   "display_name": "Python 3 (ipykernel)",
   "language": "python",
   "name": "python3"
  },
  "language_info": {
   "codemirror_mode": {
    "name": "ipython",
    "version": 3
   },
   "file_extension": ".py",
   "mimetype": "text/x-python",
   "name": "python",
   "nbconvert_exporter": "python",
   "pygments_lexer": "ipython3",
   "version": "3.11.7"
  }
 },
 "nbformat": 4,
 "nbformat_minor": 5
}
