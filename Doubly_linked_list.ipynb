{
 "cells": [
  {
   "cell_type": "code",
   "execution_count": 24,
   "id": "f0d5ca04-a7e7-42ac-abe7-69320fff8077",
   "metadata": {},
   "outputs": [],
   "source": [
    "class Node:\n",
    "    def __init__(self,val):\n",
    "        self.value=val\n",
    "        self.next=None\n",
    "        self.prev=None\n",
    "\n",
    "    def __str__(self):\n",
    "        return f\"{self.prev}<--{self.value}-->{self.next}\""
   ]
  },
  {
   "cell_type": "code",
   "execution_count": 164,
   "id": "f191a42f-fb39-4260-aa49-af3cd9ad44fe",
   "metadata": {},
   "outputs": [],
   "source": [
    "#create an empty linked list\n",
    "\n",
    "class LinkedList:\n",
    "    def __init__(self):\n",
    "        self.head=None\n",
    "        self.tail=None\n",
    "        self.length=0\n",
    "\n",
    "\n",
    "    def __str__(self):\n",
    "        result=''\n",
    "        temp_node=self.head\n",
    "        while temp_node is not None:\n",
    "            result+=str(temp_node.value)\n",
    "            if temp_node.next is not None:\n",
    "                result+=\"<->\"\n",
    "            temp_node=temp_node.next\n",
    "        return result\n",
    "\n",
    "    \n",
    "    def append(self,val):\n",
    "        new_node=Node(val)\n",
    "        if self.head is None:\n",
    "            self.head=new_node\n",
    "            self.tail=new_node\n",
    "        else:\n",
    "            self.tail.next=new_node\n",
    "            new_node.prev=self.tail\n",
    "            self.tail=new_node\n",
    "        self.length+=1\n",
    "\n",
    "    def prepend(self,value):\n",
    "        new_node=Node(value)\n",
    "        #check if linked list is empty\n",
    "\n",
    "        if self.length==0:\n",
    "            self.head=new_node\n",
    "            self.tail=new_node\n",
    "        else:\n",
    "            new_node.next=self.head\n",
    "            self.head.prev=new_node\n",
    "            self.head=new_node\n",
    "        self.length+=1\n",
    "\n",
    "    def traverse(self):\n",
    "        temp_node=self.head\n",
    "        while temp_node:\n",
    "            print(temp_node.value)\n",
    "            \n",
    "            temp_node=temp_node.next\n",
    "\n",
    "    def reverse_trav(self):\n",
    "          temp_node=self.tail\n",
    "          while temp_node:\n",
    "              print(temp_node.value)\n",
    "              temp_node=temp_node.prev\n",
    "\n",
    "    def search(self,target):\n",
    "        curr_node=self.head\n",
    "        index=0\n",
    "        while curr_node:\n",
    "            if curr_node.value==target:\n",
    "                return index\n",
    "            curr_node=curr_node.next\n",
    "            index+=1\n",
    "        return -1\n",
    "\n",
    "    def get(self,index):\n",
    "        if index<0 or index>self.length:\n",
    "            return None\n",
    "        if index<self.length//2:\n",
    "            curr_node=self.head\n",
    "            for _ in range(index):\n",
    "                curr_node=curr_node.next\n",
    "        else:\n",
    "            curr_node=self.tail\n",
    "            for i in range(self.length-1,index,-1):\n",
    "                curr_node=curr_node.prev\n",
    "        return curr_node\n",
    "\n",
    "\n",
    "    def set(self,index,value):\n",
    "        node=self.get(index)\n",
    "        if node:\n",
    "            node.value=value\n",
    "            return True\n",
    "        return False\n",
    "\n",
    "    def insert(self,index,value):\n",
    "        if index<0 or index>self.length:\n",
    "            print(\"Index is out of range\")\n",
    "            return\n",
    "        if index==0:\n",
    "            self.prepend(value)\n",
    "            return \n",
    "        elif index==self.length:\n",
    "            self.append(value)\n",
    "            return\n",
    "        new_node=Node(value)\n",
    "        prev_node=self.get(index-1)\n",
    "        new_node.next=prev_node.next\n",
    "        prev_node.next.prev=new_node\n",
    "        prev_node.next=new_node\n",
    "        new_node.prev=prev_node\n",
    "        self.length+=1\n",
    "\n",
    "    def pop_first(self):\n",
    "        popped_node=self.head\n",
    "        if self.length==0:\n",
    "            return\"ITs empty\"\n",
    "        elif self.length==1:\n",
    "            self.head=None\n",
    "            self.tail=None\n",
    "        else:\n",
    "                 \n",
    "        \n",
    "            self.head=popped_node.next\n",
    "            self.head.prev=None\n",
    "            popped_node.next=None\n",
    "        self.length-=1\n",
    "        return popped_node\n",
    "\n",
    "\n",
    "\n",
    "    def pop(self):\n",
    "        popped_node=self.tail\n",
    "        if self.length==0:\n",
    "            return \"It is empty.\"\n",
    "        elif self.length==1:\n",
    "            self.head=None\n",
    "            self.tail=None\n",
    "        else:\n",
    "            self.tail=popped_node.prev\n",
    "            self.tail.next=None\n",
    "            popped_node.prev=None\n",
    "        self.length-=1\n",
    "        return popped_node\n",
    "\n",
    "\n",
    "    def remove(self,index):\n",
    "        \n",
    "        if index<0 or index>self.length:\n",
    "            return \"Index out of range.\"\n",
    "        elif index==0:\n",
    "            popped_node=self.head\n",
    "            self.head=None\n",
    "            self.tail=None\n",
    "        else:\n",
    "            popped_node=self.get(index)\n",
    "            popped_node.prev.next=popped_node.next\n",
    "            popped_node.next.prev=popped_node.prev\n",
    "            popped_node.next=popped_node.prev=None\n",
    "        self.length-=1\n",
    "        return popped_node\n",
    "        "
   ]
  },
  {
   "cell_type": "code",
   "execution_count": 128,
   "id": "11f43bb1-9e13-40f6-b68f-6167b69d32a8",
   "metadata": {},
   "outputs": [],
   "source": [
    "mir=LinkedList()"
   ]
  },
  {
   "cell_type": "code",
   "execution_count": 129,
   "id": "787765fa-1348-4fce-bcc1-b0567b85ca18",
   "metadata": {},
   "outputs": [],
   "source": [
    "mir.append(5)"
   ]
  },
  {
   "cell_type": "code",
   "execution_count": 130,
   "id": "72b976f6-b9f6-43a4-aa4a-c9fde8c18655",
   "metadata": {},
   "outputs": [],
   "source": [
    "mir.append(6)"
   ]
  },
  {
   "cell_type": "code",
   "execution_count": 131,
   "id": "1ae86e27-e1d0-452b-8e6a-fe3dd755e181",
   "metadata": {},
   "outputs": [],
   "source": [
    "mir.append(9)"
   ]
  },
  {
   "cell_type": "code",
   "execution_count": 132,
   "id": "eafd8691-3dce-4b5f-a67b-ccdb8692aafd",
   "metadata": {},
   "outputs": [
    {
     "name": "stdout",
     "output_type": "stream",
     "text": [
      "5<->6<->9\n"
     ]
    }
   ],
   "source": [
    "print(mir)"
   ]
  },
  {
   "cell_type": "code",
   "execution_count": 133,
   "id": "cb4cfecb-69ed-4dbf-bfce-9b9daed0073b",
   "metadata": {},
   "outputs": [
    {
     "data": {
      "text/plain": [
       "3"
      ]
     },
     "execution_count": 133,
     "metadata": {},
     "output_type": "execute_result"
    }
   ],
   "source": [
    "mir.length"
   ]
  },
  {
   "cell_type": "code",
   "execution_count": 134,
   "id": "5d238630-a661-4463-b2b3-a5c3d1a2baa2",
   "metadata": {},
   "outputs": [],
   "source": [
    "mir.prepend(9)"
   ]
  },
  {
   "cell_type": "code",
   "execution_count": 135,
   "id": "e1ddceeb-750a-4f97-9f00-7d69cda8c72c",
   "metadata": {},
   "outputs": [],
   "source": [
    "mir.prepend(10)"
   ]
  },
  {
   "cell_type": "code",
   "execution_count": 136,
   "id": "67ce5da1-445e-46f5-a571-016886003342",
   "metadata": {},
   "outputs": [],
   "source": [
    "mir.prepend(11)"
   ]
  },
  {
   "cell_type": "code",
   "execution_count": 137,
   "id": "5b3effee-ee54-4ec9-a0d2-8fa09703423c",
   "metadata": {},
   "outputs": [
    {
     "name": "stdout",
     "output_type": "stream",
     "text": [
      "11<->10<->9<->5<->6<->9\n"
     ]
    }
   ],
   "source": [
    "print(mir)"
   ]
  },
  {
   "cell_type": "code",
   "execution_count": 138,
   "id": "bdaab851-0b2e-45f6-ba10-e41601088151",
   "metadata": {},
   "outputs": [
    {
     "name": "stdout",
     "output_type": "stream",
     "text": [
      "11\n",
      "10\n",
      "9\n",
      "5\n",
      "6\n",
      "9\n"
     ]
    }
   ],
   "source": [
    "mir.traverse()"
   ]
  },
  {
   "cell_type": "code",
   "execution_count": 139,
   "id": "0b419dab-19ba-4783-9f4d-49c621027300",
   "metadata": {},
   "outputs": [
    {
     "name": "stdout",
     "output_type": "stream",
     "text": [
      "9\n",
      "6\n",
      "5\n",
      "9\n",
      "10\n",
      "11\n"
     ]
    }
   ],
   "source": [
    "mir.reverse_trav()"
   ]
  },
  {
   "cell_type": "code",
   "execution_count": 140,
   "id": "2688312a-d415-4219-88eb-ba33f3efb063",
   "metadata": {},
   "outputs": [
    {
     "data": {
      "text/plain": [
       "9"
      ]
     },
     "execution_count": 140,
     "metadata": {},
     "output_type": "execute_result"
    }
   ],
   "source": [
    "mir.tail.value"
   ]
  },
  {
   "cell_type": "code",
   "execution_count": 144,
   "id": "6afdd9a6-91b2-4628-b352-2416af5c51fd",
   "metadata": {},
   "outputs": [
    {
     "data": {
      "text/plain": [
       "3"
      ]
     },
     "execution_count": 144,
     "metadata": {},
     "output_type": "execute_result"
    }
   ],
   "source": [
    "mir.search(5)"
   ]
  },
  {
   "cell_type": "code",
   "execution_count": 147,
   "id": "85f2a2f8-9db4-488a-8d9e-cfe65e01bb26",
   "metadata": {},
   "outputs": [
    {
     "data": {
      "text/plain": [
       "0"
      ]
     },
     "execution_count": 147,
     "metadata": {},
     "output_type": "execute_result"
    }
   ],
   "source": [
    "1//2"
   ]
  },
  {
   "cell_type": "code",
   "execution_count": 148,
   "id": "e93375e2-69cf-42eb-9cd9-5823b770f7af",
   "metadata": {},
   "outputs": [],
   "source": [
    "n=[9,6]"
   ]
  },
  {
   "cell_type": "code",
   "execution_count": 149,
   "id": "eeef0927-21bc-4ed4-a5da-c0d32d479610",
   "metadata": {},
   "outputs": [],
   "source": [
    "for i in range(0):\n",
    "    print(n[i])"
   ]
  },
  {
   "cell_type": "code",
   "execution_count": null,
   "id": "47f0f694-a811-48c1-819b-7a0ff8362cd5",
   "metadata": {},
   "outputs": [],
   "source": []
  }
 ],
 "metadata": {
  "kernelspec": {
   "display_name": "Python 3 (ipykernel)",
   "language": "python",
   "name": "python3"
  },
  "language_info": {
   "codemirror_mode": {
    "name": "ipython",
    "version": 3
   },
   "file_extension": ".py",
   "mimetype": "text/x-python",
   "name": "python",
   "nbconvert_exporter": "python",
   "pygments_lexer": "ipython3",
   "version": "3.11.7"
  }
 },
 "nbformat": 4,
 "nbformat_minor": 5
}
