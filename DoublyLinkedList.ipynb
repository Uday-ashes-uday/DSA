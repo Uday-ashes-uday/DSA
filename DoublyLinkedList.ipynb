{
 "cells": [
  {
   "cell_type": "code",
   "execution_count": 11,
   "id": "b5ab0b16",
   "metadata": {},
   "outputs": [],
   "source": [
    "class Node:\n",
    "    def __init__(self,value):\n",
    "             \n",
    "        self.value=value\n",
    "        self.next=None\n",
    "        self.prev=None"
   ]
  },
  {
   "cell_type": "code",
   "execution_count": 25,
   "id": "bd75bfa7",
   "metadata": {},
   "outputs": [],
   "source": [
    "class DoublyLinkedList:\n",
    "    def __init__(self):\n",
    "        self.head=None\n",
    "        self.tail=None\n",
    "        \n",
    "    def __iter__(self):\n",
    "        node=self.head\n",
    "        while node:\n",
    "            yield node\n",
    "            node=node.next\n",
    "            \n",
    "    def create_DLL(self,nodeValue):\n",
    "        node=Node(nodeValue)\n",
    "        node.prev=None\n",
    "        node.next=None\n",
    "        self.head=node\n",
    "        self.tail=node\n",
    "        return \"dobly linked list created succesfully\"\n",
    "      \n",
    "        "
   ]
  },
  {
   "cell_type": "code",
   "execution_count": 26,
   "id": "a8d66195",
   "metadata": {},
   "outputs": [],
   "source": [
    "pc=DoublyLinkedList()"
   ]
  },
  {
   "cell_type": "code",
   "execution_count": null,
   "id": "dc5625cc",
   "metadata": {},
   "outputs": [],
   "source": []
  }
 ],
 "metadata": {
  "kernelspec": {
   "display_name": "Python 3 (ipykernel)",
   "language": "python",
   "name": "python3"
  },
  "language_info": {
   "codemirror_mode": {
    "name": "ipython",
    "version": 3
   },
   "file_extension": ".py",
   "mimetype": "text/x-python",
   "name": "python",
   "nbconvert_exporter": "python",
   "pygments_lexer": "ipython3",
   "version": "3.10.9"
  }
 },
 "nbformat": 4,
 "nbformat_minor": 5
}
