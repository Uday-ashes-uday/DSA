{
 "cells": [
  {
   "cell_type": "markdown",
   "id": "254df2c7-f115-42a6-b7f7-99b8adf6990d",
   "metadata": {},
   "source": [
    "# circular queue"
   ]
  },
  {
   "cell_type": "code",
   "execution_count": 54,
   "id": "a06aa767-8f53-4ace-9df3-120da9cb433d",
   "metadata": {},
   "outputs": [],
   "source": [
    "class C_Queue:\n",
    "    def __init__(self,max_size):\n",
    "        self.max_size=max_size\n",
    "        self.items=max_size*[None]\n",
    "        self.start=-1\n",
    "        self.top=-1\n",
    "\n",
    "\n",
    "    def __str__(self):\n",
    "        vals=[str(i) for i in self.items]\n",
    "        return ' '.join(vals)\n",
    "\n",
    "\n",
    "\n",
    "    def isFull(self):\n",
    "        if self.top+1==self.start:\n",
    "            return True\n",
    "        elif self.start==0 and self.top+1==self.max_size:\n",
    "            return True\n",
    "        else:\n",
    "            return False\n",
    "\n",
    "    def isEmpty(self):\n",
    "        return self.start==-1\n",
    "\n",
    "    def enqueue(self,value):\n",
    "        #check if queue is full\n",
    "        if self.isFull():\n",
    "            return \"The queue is full.\"\n",
    "        else:\n",
    "            if self.top+1==self.max_size:\n",
    "                self.top=0\n",
    "            else:\n",
    "                self.top+=1\n",
    "                #if queue is empty update start index\n",
    "                self.start=0\n",
    "            self.items[self.top]=value\n",
    "            \n",
    "            return \"An element is added to the end of queue.\"\n",
    "\n",
    "\n",
    "    def dequeue(self):\n",
    "        #check if queue is empty\n",
    "        if self.isEmpty():\n",
    "            return \"The queue is empty.\"\n",
    "\n",
    "        else:\n",
    "            firstElement=self.items[self.start]\n",
    "            start=self.start\n",
    "\n",
    "            #check if queue has only one element\n",
    "            if self.start==self.top:\n",
    "                self.start=-1\n",
    "                self.top=-1\n",
    "            elif self.start+1==self.max_size:\n",
    "                self.start=0\n",
    "            else:\n",
    "                self.start+=1\n",
    "            self.items[start]=None\n",
    "            return firstElement\n",
    "            \n",
    "\n",
    "    def peek(self):\n",
    "        if self.isEmpty():\n",
    "            return \"The queue is empty.\"\n",
    "        else:\n",
    "            return self.items[self.start]\n",
    "\n",
    "    def delete(self):\n",
    "        self.items=[None]*self.max_size\n",
    "        self.start=-1\n",
    "        self.top=-1"
   ]
  },
  {
   "cell_type": "code",
   "execution_count": 45,
   "id": "e366015f-2a46-480d-8053-626e60dd993c",
   "metadata": {},
   "outputs": [],
   "source": [
    "vit=C_Queue(7)"
   ]
  },
  {
   "cell_type": "code",
   "execution_count": 46,
   "id": "ae2480c9-3e65-4346-bcfc-c27978267867",
   "metadata": {},
   "outputs": [
    {
     "data": {
      "text/plain": [
       "'An element is added to the end of queue.'"
      ]
     },
     "execution_count": 46,
     "metadata": {},
     "output_type": "execute_result"
    }
   ],
   "source": [
    "vit.enqueue(8)\n",
    "vit.enqueue(9)\n",
    "vit.enqueue(11)\n",
    "vit.enqueue(13)\n",
    "vit.enqueue(10)\n",
    "vit.enqueue(2)\n",
    "vit.enqueue(8)"
   ]
  },
  {
   "cell_type": "code",
   "execution_count": 51,
   "id": "662f402c-3ee9-4a75-b145-26bee14e7427",
   "metadata": {},
   "outputs": [
    {
     "name": "stdout",
     "output_type": "stream",
     "text": [
      "None 9 11 13 10 2 8\n"
     ]
    }
   ],
   "source": [
    "print(vit)"
   ]
  },
  {
   "cell_type": "code",
   "execution_count": 48,
   "id": "4e6be1cd-9945-4430-823f-b8e51baeca9c",
   "metadata": {},
   "outputs": [
    {
     "data": {
      "text/plain": [
       "True"
      ]
     },
     "execution_count": 48,
     "metadata": {},
     "output_type": "execute_result"
    }
   ],
   "source": [
    "vit.isFull()"
   ]
  },
  {
   "cell_type": "code",
   "execution_count": 49,
   "id": "c111e5f6-30ae-4179-a5a5-40c6a9ac16ee",
   "metadata": {},
   "outputs": [
    {
     "data": {
      "text/plain": [
       "False"
      ]
     },
     "execution_count": 49,
     "metadata": {},
     "output_type": "execute_result"
    }
   ],
   "source": [
    "vit.isEmpty()"
   ]
  },
  {
   "cell_type": "code",
   "execution_count": 50,
   "id": "25cfa898-deec-47eb-9bdd-76c9b6d504b8",
   "metadata": {},
   "outputs": [
    {
     "data": {
      "text/plain": [
       "8"
      ]
     },
     "execution_count": 50,
     "metadata": {},
     "output_type": "execute_result"
    }
   ],
   "source": [
    "vit.dequeue()"
   ]
  },
  {
   "cell_type": "code",
   "execution_count": 52,
   "id": "1e878940-00d6-4a7a-93ae-a9a80e5a8814",
   "metadata": {},
   "outputs": [
    {
     "data": {
      "text/plain": [
       "9"
      ]
     },
     "execution_count": 52,
     "metadata": {},
     "output_type": "execute_result"
    }
   ],
   "source": [
    "vit.peek()"
   ]
  },
  {
   "cell_type": "markdown",
   "id": "253f8b26-9d89-491b-9671-1c93a83e952b",
   "metadata": {},
   "source": [
    "# Queue with linked list"
   ]
  },
  {
   "cell_type": "code",
   "execution_count": 40,
   "id": "419858b8-aec5-45f2-933b-ac64eed20173",
   "metadata": {},
   "outputs": [],
   "source": [
    "class Node:\n",
    "    def __init__(self,value):\n",
    "        self.value=value\n",
    "        self.next=None\n",
    "\n",
    "    def __str__(self):\n",
    "        return str(self.value)"
   ]
  },
  {
   "cell_type": "code",
   "execution_count": 42,
   "id": "3a4dffbd-0639-426d-8e61-67ea55029e7a",
   "metadata": {},
   "outputs": [],
   "source": [
    "class Linked_List:\n",
    "    def __init__(self):\n",
    "        self.head=None\n",
    "        self.tail=None\n",
    "\n",
    "    def __iter__(self):\n",
    "        currNode=self.head\n",
    "        while currNode:\n",
    "            yield currNode\n",
    "            currNode=currNode.next"
   ]
  },
  {
   "cell_type": "code",
   "execution_count": 128,
   "id": "fd5e5bb3-998c-44a8-b07b-1ceaaee36623",
   "metadata": {},
   "outputs": [],
   "source": [
    "class LL_Queue:\n",
    "    def __init__(self):\n",
    "        self.llist=Linked_List()\n",
    "\n",
    "\n",
    "    def __str__(self):\n",
    "        vals= [str(i) for i in self.llist]\n",
    "        return \" \".join(vals)\n",
    "    def enqueue(self,value):\n",
    "        newNode=Node(value)\n",
    "        #check if queue is empty\n",
    "        if self.llist.head is None:\n",
    "            self.llist.head=newNode\n",
    "            self.llist.tail=newNode\n",
    "        else:\n",
    "        #if queue is not empty\n",
    "            self.llist.tail.next=newNode\n",
    "            self.llist.tail=newNode\n",
    "            \n",
    "\n",
    "\n",
    "    def isEmpty(self):\n",
    "        return self.llist.head is None\n",
    "\n",
    "    def dequeue(self):\n",
    "        if self.isEmpty():\n",
    "            return \"The queue is empty.\"\n",
    "        else:\n",
    "            pop_node=self.llist.head\n",
    "            #check if queue has only one value\n",
    "            if self.llist.head==self.llist.tail:\n",
    "                self.llist.head=None\n",
    "                self.llist.tail=None\n",
    "            else:\n",
    "                self.llist.head=pop_node.next\n",
    "                pop_node.next=None\n",
    "            return pop_node\n",
    "\n",
    "    def peek(self):\n",
    "        if self.isEmpty():\n",
    "            return \"the queue is empty.\"\n",
    "        else:\n",
    "            return self.llist.head\n",
    "\n",
    "    def delete(self):\n",
    "        self.llist.head=None\n",
    "        self.llist.tail=None"
   ]
  },
  {
   "cell_type": "code",
   "execution_count": 129,
   "id": "6dd92a75-8b25-4f7c-8561-2dc13ea74c52",
   "metadata": {},
   "outputs": [],
   "source": [
    "cusQ=LL_Queue()"
   ]
  },
  {
   "cell_type": "code",
   "execution_count": 130,
   "id": "0fadde80-8239-4e4d-9aea-e6d99867dd16",
   "metadata": {},
   "outputs": [],
   "source": [
    "cusQ.enqueue(5)\n",
    "cusQ.enqueue(8)\n",
    "cusQ.enqueue(9)\n",
    "cusQ.enqueue(10)"
   ]
  },
  {
   "cell_type": "code",
   "execution_count": 131,
   "id": "92d5d5d5-a64a-4060-bb04-c897afb03c6e",
   "metadata": {},
   "outputs": [
    {
     "data": {
      "text/plain": [
       "5"
      ]
     },
     "execution_count": 131,
     "metadata": {},
     "output_type": "execute_result"
    }
   ],
   "source": [
    "cusQ.llist.head.value"
   ]
  },
  {
   "cell_type": "code",
   "execution_count": 132,
   "id": "5f4f2c38-8587-4611-bc7e-c3f2a7a9f155",
   "metadata": {},
   "outputs": [
    {
     "data": {
      "text/plain": [
       "10"
      ]
     },
     "execution_count": 132,
     "metadata": {},
     "output_type": "execute_result"
    }
   ],
   "source": [
    "cusQ.llist.tail.value"
   ]
  },
  {
   "cell_type": "code",
   "execution_count": 137,
   "id": "3f4c4952-8ed3-4d50-b4ee-51cec96cf74d",
   "metadata": {},
   "outputs": [
    {
     "name": "stdout",
     "output_type": "stream",
     "text": [
      "\n"
     ]
    }
   ],
   "source": [
    "print(cusQ)\n"
   ]
  },
  {
   "cell_type": "code",
   "execution_count": 134,
   "id": "888edf00-f331-416d-9b23-8763cb8a3409",
   "metadata": {},
   "outputs": [
    {
     "name": "stdout",
     "output_type": "stream",
     "text": [
      "5\n"
     ]
    }
   ],
   "source": [
    "\n",
    "print(cusQ.dequeue())"
   ]
  },
  {
   "cell_type": "code",
   "execution_count": 135,
   "id": "023690cc-35c1-40ef-8b51-303abc46513e",
   "metadata": {},
   "outputs": [
    {
     "name": "stdout",
     "output_type": "stream",
     "text": [
      "8\n"
     ]
    }
   ],
   "source": [
    "print(cusQ.peek())"
   ]
  },
  {
   "cell_type": "code",
   "execution_count": 136,
   "id": "ba24e04e-de91-4a32-953d-f8d0c1da6a53",
   "metadata": {},
   "outputs": [],
   "source": [
    "cusQ.delete()"
   ]
  },
  {
   "cell_type": "code",
   "execution_count": 138,
   "id": "b3e8e083-778a-4559-87e1-f128b246889f",
   "metadata": {},
   "outputs": [
    {
     "data": {
      "text/plain": [
       "True"
      ]
     },
     "execution_count": 138,
     "metadata": {},
     "output_type": "execute_result"
    }
   ],
   "source": [
    "cusQ.isEmpty()"
   ]
  },
  {
   "cell_type": "code",
   "execution_count": null,
   "id": "a6cd9c95-4346-4c09-b3c6-ed28c8802991",
   "metadata": {},
   "outputs": [],
   "source": []
  }
 ],
 "metadata": {
  "kernelspec": {
   "display_name": "Python 3 (ipykernel)",
   "language": "python",
   "name": "python3"
  },
  "language_info": {
   "codemirror_mode": {
    "name": "ipython",
    "version": 3
   },
   "file_extension": ".py",
   "mimetype": "text/x-python",
   "name": "python",
   "nbconvert_exporter": "python",
   "pygments_lexer": "ipython3",
   "version": "3.11.7"
  }
 },
 "nbformat": 4,
 "nbformat_minor": 5
}
